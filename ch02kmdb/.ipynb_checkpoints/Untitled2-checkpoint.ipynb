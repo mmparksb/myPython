{
 "cells": [
  {
   "cell_type": "code",
   "execution_count": null,
   "id": "ce38c09c-a5a4-4147-a091-cd3e427e1435",
   "metadata": {},
   "outputs": [],
   "source": []
  }
 ],
 "metadata": {
  "kernelspec": {
   "display_name": "",
   "name": ""
  },
  "language_info": {
   "name": ""
  }
 },
 "nbformat": 4,
 "nbformat_minor": 5
}
