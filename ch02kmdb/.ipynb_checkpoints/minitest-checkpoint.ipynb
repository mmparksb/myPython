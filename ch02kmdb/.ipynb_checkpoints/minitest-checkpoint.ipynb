{
 "cells": [
  {
   "cell_type": "code",
   "execution_count": 17,
   "id": "67dcb40e-a662-4100-84d0-b85cba5dd9ec",
   "metadata": {},
   "outputs": [],
   "source": [
    "a=50"
   ]
  },
  {
   "cell_type": "code",
   "execution_count": 21,
   "id": "19d2bc0b-d8c1-4591-a40c-1cb9366941be",
   "metadata": {},
   "outputs": [],
   "source": [
    "b=30"
   ]
  },
  {
   "cell_type": "code",
   "execution_count": 22,
   "id": "4a54279c-f1a8-408d-96ae-5bf5ebcd249f",
   "metadata": {},
   "outputs": [
    {
     "data": {
      "text/plain": [
       "80"
      ]
     },
     "execution_count": 22,
     "metadata": {},
     "output_type": "execute_result"
    }
   ],
   "source": [
    "print(a+b)"
   ]
  },
  {
   "cell_type": "code",
   "execution_count": null,
   "id": "70fef803-a545-4349-8af8-9c83b9017730",
   "metadata": {},
   "outputs": [],
   "source": []
  }
 ],
 "metadata": {
  "kernelspec": {
   "display_name": "Python 3 (ipykernel)",
   "language": "python",
   "name": "python3"
  },
  "language_info": {
   "codemirror_mode": {
    "name": "ipython",
    "version": 3
   },
   "file_extension": ".py",
   "mimetype": "text/x-python",
   "name": "python",
   "nbconvert_exporter": "python",
   "pygments_lexer": "ipython3",
   "version": "3.12.4"
  }
 },
 "nbformat": 4,
 "nbformat_minor": 5
}
