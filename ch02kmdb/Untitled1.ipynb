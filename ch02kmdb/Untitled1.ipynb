{
 "cells": [
  {
   "cell_type": "code",
   "execution_count": 7,
   "id": "16081a60-1d96-4784-8e03-ef109accd3af",
   "metadata": {},
   "outputs": [],
   "source": [
    "import pandas as pd\n",
    "import numpy as np\n",
    "import folium\n",
    "import requests\n",
    "\n",
    "from bs4 import BeautifulSoup\n",
    "\n",
    "# pip install tqdm : progressBar 구현\n",
    "from tqdm.notebook import tqdm \n",
    "from selenium import webdriver\n",
    "\n",
    "from selenium.webdriver.common.by import By\n",
    "from selenium.webdriver.support.ui import WebDriverWait\n",
    "from selenium.webdriver.support import expected_conditions as EC\n",
    "from selenium.webdriver.chrome.service import Service\n",
    "\n",
    "# jupyter nbconvert --to script coffeeStore.ipynb"
   ]
  },
  {
   "cell_type": "code",
   "execution_count": 29,
   "id": "4e36b049-aa02-4745-bfd4-aeedfd7b8d18",
   "metadata": {},
   "outputs": [
    {
     "name": "stdout",
     "output_type": "stream",
     "text": [
      "<class 'selenium.webdriver.chrome.webdriver.WebDriver'>\n"
     ]
    }
   ],
   "source": [
    "chrome_options = webdriver.ChromeOptions() # 크롬 브라우저 옵션\n",
    "drive_path = 'chromedriver.exe' # 다운로드 받은 드라이버 파일\n",
    "myservice = Service(drive_path) # 드라이버 제어를 위한 서비스 객체\n",
    "driver = webdriver.Chrome(service=myservice, options=chrome_options) # 드라이버 객체\n",
    "print(type(driver)) # 객체가 잘 생성되었는 지 확인\n",
    "\n",
    "wait_time = 10 # 최대 대기 시간\n",
    "driver.implicitly_wait(wait_time)"
   ]
  },
  {
   "cell_type": "code",
   "execution_count": 30,
   "id": "c4284578-bfaf-4719-addc-6ce3d535fd1d",
   "metadata": {},
   "outputs": [],
   "source": [
    "driver.maximize_window() # 윈도우 창 최대화"
   ]
  },
  {
   "cell_type": "code",
   "execution_count": 31,
   "id": "f6b76d59-b46e-4759-b5b0-030c01aaec50",
   "metadata": {},
   "outputs": [],
   "source": [
    "starbucks_url = 'https://www.starbucks.co.kr/store/store_map.do?disp=locale'\n",
    "driver.get(starbucks_url) # 해당 페이지로 이동하기"
   ]
  },
  {
   "cell_type": "code",
   "execution_count": 32,
   "id": "b2a4ad80-6bea-481f-9348-8ca446e04d84",
   "metadata": {},
   "outputs": [],
   "source": [
    "# 스타벅스) '서울' 링크 클릭\n",
    "starbucks_seoul_selector = '#container > div > form > fieldset > div > section > article.find_store_cont > article > article:nth-child(4) > div.loca_step1 > div.loca_step1_cont > ul > li:nth-child(1) > a'\n",
    "WebDriverWait(driver, 5).until(EC.presence_of_element_located((By.CSS_SELECTOR, starbucks_seoul_selector))).click()"
   ]
  },
  {
   "cell_type": "code",
   "execution_count": 36,
   "id": "6ffc9b07-1e0c-4089-ba03-884f65ae36b6",
   "metadata": {},
   "outputs": [],
   "source": [
    "# 스타벅스) '서울'-'전체' 클릭\n",
    "starbucks_seoul_all = '#mCSB_2_container > ul > li:nth-child(1) > a'\n",
    "WebDriverWait(driver, 5).until(EC.presence_of_element_located((By.CSS_SELECTOR, starbucks_seoul_all))).click()"
   ]
  },
  {
   "cell_type": "code",
   "execution_count": null,
   "id": "dd8c8f4a-0b98-4e5b-ba66-f6f814c8ecc3",
   "metadata": {},
   "outputs": [],
   "source": [
    "# 스타벅스 html 코드를 파싱하여 html 파일에 기록합니다."
   ]
  },
  {
   "cell_type": "code",
   "execution_count": null,
   "id": "78d204f6-8c53-4991-bf1d-075a38a27e48",
   "metadata": {},
   "outputs": [],
   "source": []
  },
  {
   "cell_type": "code",
   "execution_count": null,
   "id": "1ef3d990-347e-40f8-b3af-219681105e44",
   "metadata": {},
   "outputs": [],
   "source": []
  },
  {
   "cell_type": "code",
   "execution_count": null,
   "id": "fa0f6b1c-bb0a-42ba-957f-27f5e79b4b94",
   "metadata": {},
   "outputs": [],
   "source": []
  },
  {
   "cell_type": "code",
   "execution_count": null,
   "id": "73b1c3da-e9bd-4b72-b620-09ea28eaed92",
   "metadata": {},
   "outputs": [],
   "source": []
  },
  {
   "cell_type": "code",
   "execution_count": null,
   "id": "5bdf0392-fe0f-497d-be86-2c84b3be5d07",
   "metadata": {},
   "outputs": [],
   "source": []
  },
  {
   "cell_type": "code",
   "execution_count": null,
   "id": "b4e37fb7-740b-476a-ad4b-fb2ea273f60a",
   "metadata": {},
   "outputs": [],
   "source": []
  },
  {
   "cell_type": "code",
   "execution_count": null,
   "id": "e38ecafb-5240-4602-9198-27d31ed7e562",
   "metadata": {},
   "outputs": [],
   "source": []
  },
  {
   "cell_type": "code",
   "execution_count": null,
   "id": "98ec6b46-2fde-46db-96cd-68c2315dfff8",
   "metadata": {},
   "outputs": [],
   "source": []
  },
  {
   "cell_type": "code",
   "execution_count": null,
   "id": "0e0fd1e2-c0a0-4fb7-89a5-22b47f1a486d",
   "metadata": {},
   "outputs": [],
   "source": []
  },
  {
   "cell_type": "code",
   "execution_count": null,
   "id": "c075620e-f0de-4bac-b4ab-c80f14a017a5",
   "metadata": {},
   "outputs": [],
   "source": []
  },
  {
   "cell_type": "code",
   "execution_count": null,
   "id": "86ac6e3b-9149-43af-9cb1-fbd2cc937a00",
   "metadata": {},
   "outputs": [],
   "source": []
  }
 ],
 "metadata": {
  "kernelspec": {
   "display_name": "Python 3 (ipykernel)",
   "language": "python",
   "name": "python3"
  },
  "language_info": {
   "codemirror_mode": {
    "name": "ipython",
    "version": 3
   },
   "file_extension": ".py",
   "mimetype": "text/x-python",
   "name": "python",
   "nbconvert_exporter": "python",
   "pygments_lexer": "ipython3",
   "version": "3.12.4"
  }
 },
 "nbformat": 4,
 "nbformat_minor": 5
}
